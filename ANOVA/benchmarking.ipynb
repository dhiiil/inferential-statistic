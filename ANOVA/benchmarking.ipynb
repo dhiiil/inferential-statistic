{
 "cells": [
  {
   "cell_type": "code",
   "execution_count": 3,
   "metadata": {},
   "outputs": [
    {
     "data": {
      "text/html": [
       "<div>\n",
       "<style scoped>\n",
       "    .dataframe tbody tr th:only-of-type {\n",
       "        vertical-align: middle;\n",
       "    }\n",
       "\n",
       "    .dataframe tbody tr th {\n",
       "        vertical-align: top;\n",
       "    }\n",
       "\n",
       "    .dataframe thead th {\n",
       "        text-align: right;\n",
       "    }\n",
       "</style>\n",
       "<table border=\"1\" class=\"dataframe\">\n",
       "  <thead>\n",
       "    <tr style=\"text-align: right;\">\n",
       "      <th></th>\n",
       "      <th>Model</th>\n",
       "      <th>Accuracy</th>\n",
       "    </tr>\n",
       "  </thead>\n",
       "  <tbody>\n",
       "    <tr>\n",
       "      <th>0</th>\n",
       "      <td>Logistic Regression</td>\n",
       "      <td>0.966667</td>\n",
       "    </tr>\n",
       "    <tr>\n",
       "      <th>1</th>\n",
       "      <td>Logistic Regression</td>\n",
       "      <td>1.000000</td>\n",
       "    </tr>\n",
       "    <tr>\n",
       "      <th>2</th>\n",
       "      <td>Logistic Regression</td>\n",
       "      <td>0.933333</td>\n",
       "    </tr>\n",
       "    <tr>\n",
       "      <th>3</th>\n",
       "      <td>Logistic Regression</td>\n",
       "      <td>0.966667</td>\n",
       "    </tr>\n",
       "    <tr>\n",
       "      <th>4</th>\n",
       "      <td>Logistic Regression</td>\n",
       "      <td>1.000000</td>\n",
       "    </tr>\n",
       "    <tr>\n",
       "      <th>5</th>\n",
       "      <td>SVM</td>\n",
       "      <td>0.966667</td>\n",
       "    </tr>\n",
       "    <tr>\n",
       "      <th>6</th>\n",
       "      <td>SVM</td>\n",
       "      <td>0.966667</td>\n",
       "    </tr>\n",
       "    <tr>\n",
       "      <th>7</th>\n",
       "      <td>SVM</td>\n",
       "      <td>0.966667</td>\n",
       "    </tr>\n",
       "    <tr>\n",
       "      <th>8</th>\n",
       "      <td>SVM</td>\n",
       "      <td>0.933333</td>\n",
       "    </tr>\n",
       "    <tr>\n",
       "      <th>9</th>\n",
       "      <td>SVM</td>\n",
       "      <td>1.000000</td>\n",
       "    </tr>\n",
       "    <tr>\n",
       "      <th>10</th>\n",
       "      <td>Random Forest</td>\n",
       "      <td>0.966667</td>\n",
       "    </tr>\n",
       "    <tr>\n",
       "      <th>11</th>\n",
       "      <td>Random Forest</td>\n",
       "      <td>0.966667</td>\n",
       "    </tr>\n",
       "    <tr>\n",
       "      <th>12</th>\n",
       "      <td>Random Forest</td>\n",
       "      <td>0.933333</td>\n",
       "    </tr>\n",
       "    <tr>\n",
       "      <th>13</th>\n",
       "      <td>Random Forest</td>\n",
       "      <td>0.966667</td>\n",
       "    </tr>\n",
       "    <tr>\n",
       "      <th>14</th>\n",
       "      <td>Random Forest</td>\n",
       "      <td>1.000000</td>\n",
       "    </tr>\n",
       "  </tbody>\n",
       "</table>\n",
       "</div>"
      ],
      "text/plain": [
       "                  Model  Accuracy\n",
       "0   Logistic Regression  0.966667\n",
       "1   Logistic Regression  1.000000\n",
       "2   Logistic Regression  0.933333\n",
       "3   Logistic Regression  0.966667\n",
       "4   Logistic Regression  1.000000\n",
       "5                   SVM  0.966667\n",
       "6                   SVM  0.966667\n",
       "7                   SVM  0.966667\n",
       "8                   SVM  0.933333\n",
       "9                   SVM  1.000000\n",
       "10        Random Forest  0.966667\n",
       "11        Random Forest  0.966667\n",
       "12        Random Forest  0.933333\n",
       "13        Random Forest  0.966667\n",
       "14        Random Forest  1.000000"
      ]
     },
     "execution_count": 3,
     "metadata": {},
     "output_type": "execute_result"
    }
   ],
   "source": [
    "import pandas as pd\n",
    "from sklearn.model_selection import cross_val_score\n",
    "from sklearn.datasets import load_iris\n",
    "from sklearn.linear_model import LogisticRegression\n",
    "from sklearn.svm import SVC\n",
    "from sklearn.ensemble import RandomForestClassifier\n",
    "from scipy.stats import f_oneway\n",
    "\n",
    "# Load dataset\n",
    "iris = load_iris()\n",
    "X, y = iris.data, iris.target\n",
    "\n",
    "# Define models\n",
    "models = {\n",
    "    \"Logistic Regression\": LogisticRegression(max_iter=200),\n",
    "    \"SVM\": SVC(),\n",
    "    \"Random Forest\": RandomForestClassifier()\n",
    "}\n",
    "\n",
    "# Collect scores\n",
    "scores = []\n",
    "for model_name, model in models.items():\n",
    "    cv_scores = cross_val_score(model, X, y, cv=5)  # 5-fold cross-validation\n",
    "    for score in cv_scores:\n",
    "        scores.append({\"Model\": model_name, \"Accuracy\": score})\n",
    "\n",
    "# Create dataframe\n",
    "df_scores = pd.DataFrame(scores)\n",
    "df_scores"
   ]
  },
  {
   "cell_type": "code",
   "execution_count": 11,
   "metadata": {},
   "outputs": [
    {
     "data": {
      "text/plain": [
       "(150, 4)"
      ]
     },
     "execution_count": 11,
     "metadata": {},
     "output_type": "execute_result"
    }
   ],
   "source": [
    "iris.data.shape"
   ]
  },
  {
   "cell_type": "code",
   "execution_count": 9,
   "metadata": {},
   "outputs": [
    {
     "data": {
      "text/plain": [
       "['sepal length (cm)',\n",
       " 'sepal width (cm)',\n",
       " 'petal length (cm)',\n",
       " 'petal width (cm)']"
      ]
     },
     "execution_count": 9,
     "metadata": {},
     "output_type": "execute_result"
    }
   ],
   "source": [
    "iris.feature_names"
   ]
  },
  {
   "cell_type": "code",
   "execution_count": null,
   "metadata": {},
   "outputs": [
    {
     "name": "stdout",
     "output_type": "stream",
     "text": [
      "F-statistic: 0.11764705882352942\n",
      "p-value: 0.8900225182757423\n"
     ]
    }
   ],
   "source": [
    "C\n",
    "anova_result = f_oneway(\n",
    "    df_scores[df_scores['Model'] == \"Logistic Regression\"]['Accuracy'],\n",
    "    df_scores[df_scores['Model'] == \"SVM\"]['Accuracy'],\n",
    "    df_scores[df_scores['Model'] == \"Random Forest\"]['Accuracy']\n",
    ")\n",
    "\n",
    "print(\"F-statistic:\", anova_result.statistic)\n",
    "print(\"p-value:\", anova_result.pvalue)"
   ]
  },
  {
   "cell_type": "markdown",
   "metadata": {},
   "source": [
    "H0 : Tidak ada perbedaan rata-rata performa di antara kelompok model yang diuji <br>\n",
    "H1 : Ada setidaknya satu pasangan model yang memiliki rata-rata performa yang berbeda"
   ]
  },
  {
   "cell_type": "code",
   "execution_count": 20,
   "metadata": {},
   "outputs": [
    {
     "name": "stdout",
     "output_type": "stream",
     "text": [
      "========================================\n",
      "Result Test\n",
      "========================================\n",
      "F-statistic: 0.11764705882352942\n",
      "p-value: 0.8900225182757423\n",
      "========================================\n",
      "p-value (0.8900) >= alpha (0.05), sehingga kita GAGAL menolak hipotesis nol.\n",
      "Kesimpulan: Tidak ada bukti perbedaan signifikan antara rata-rata performa model.\n"
     ]
    }
   ],
   "source": [
    "# Set threshold untuk tingkat signifikansi\n",
    "alpha = 0.05\n",
    "\n",
    "print(40*\"=\")\n",
    "print(\"Result Test\")\n",
    "print(40*\"=\")\n",
    "print(\"F-statistic:\", anova_result.statistic)\n",
    "print(\"p-value:\", anova_result.pvalue)\n",
    "print(40*\"=\")\n",
    "\n",
    "# Penarikan kesimpulan\n",
    "if anova_result.pvalue < alpha:\n",
    "    print(f\"p-value ({anova_result.pvalue:.4f}) < alpha ({alpha}), sehingga kita MENOLAK hipotesis nol.\")\n",
    "    print(\"Kesimpulan: Ada perbedaan signifikan antara rata-rata performa model.\")\n",
    "else:\n",
    "    print(f\"p-value ({anova_result.pvalue:.4f}) >= alpha ({alpha}), sehingga kita GAGAL menolak hipotesis nol.\")\n",
    "    print(\"Kesimpulan: Tidak ada bukti perbedaan signifikan antara rata-rata performa model.\")\n"
   ]
  }
 ],
 "metadata": {
  "kernelspec": {
   "display_name": "Python 3",
   "language": "python",
   "name": "python3"
  },
  "language_info": {
   "codemirror_mode": {
    "name": "ipython",
    "version": 3
   },
   "file_extension": ".py",
   "mimetype": "text/x-python",
   "name": "python",
   "nbconvert_exporter": "python",
   "pygments_lexer": "ipython3",
   "version": "3.12.4"
  }
 },
 "nbformat": 4,
 "nbformat_minor": 2
}
